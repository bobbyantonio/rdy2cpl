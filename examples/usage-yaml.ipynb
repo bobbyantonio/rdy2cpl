{
 "cells": [
  {
   "cell_type": "code",
   "execution_count": 1,
   "id": "655fcc18",
   "metadata": {},
   "outputs": [],
   "source": [
    "from pprint import pprint\n",
    "import yaml\n",
    "\n",
    "from namcouple import from_dict, reduce"
   ]
  },
  {
   "cell_type": "code",
   "execution_count": 2,
   "id": "39d56de8",
   "metadata": {},
   "outputs": [
    {
     "name": "stdout",
     "output_type": "stream",
     "text": [
      "{'coupling_time_steps': [{'dt': 1200}, {'dt': 3600}],\n",
      " 'description': 'A YAML Namcouple example',\n",
      " 'links': [{'description': 'Fields sent atm --> oce',\n",
      "            'dt': 1200,\n",
      "            'source': {'fields': ['fld1_a', 'fld2_a'],\n",
      "                       'grid': {'name': 'grid_a',\n",
      "                                'overlap': 1,\n",
      "                                'type': 'atmgrid'}},\n",
      "            'target': {'fields': ['fld1_o', 'fld2_o'],\n",
      "                       'grid': {'name': 'grid_o',\n",
      "                                'overlap': 0,\n",
      "                                'type': 'ocegrid'}},\n",
      "            'transformations': [{'name': 'GAUSWGT',\n",
      "                                 'opts': ['gausswgt opt 1',\n",
      "                                          'gausswgt opt 2',\n",
      "                                          'gausswgt opt 3']},\n",
      "                                {'name': 'CONSERV', 'opts': ['GLBPOS']}]},\n",
      "           {'description': 'More fields sent atm --> oce',\n",
      "            'dt': 1200,\n",
      "            'source': {'fields': ['fld3_a'],\n",
      "                       'grid': {'name': 'grid_a',\n",
      "                                'overlap': 1,\n",
      "                                'type': 'atmgrid'}},\n",
      "            'target': {'fields': ['fld3_o'],\n",
      "                       'grid': {'name': 'grid_o',\n",
      "                                'overlap': 0,\n",
      "                                'type': 'ocegrid'}},\n",
      "            'transformations': [{'name': 'GAUSWGT',\n",
      "                                 'opts': ['gausswgt opt 1',\n",
      "                                          'gausswgt opt 2',\n",
      "                                          'gausswgt opt 3']}]},\n",
      "           {'description': 'Fields sent atm --> ice',\n",
      "            'dt': 3600,\n",
      "            'source': {'fields': ['fld4_a', 'fld5_a', 'fld6_a'],\n",
      "                       'grid': {'name': 'grid_a',\n",
      "                                'overlap': 1,\n",
      "                                'type': 'atmgrid'}},\n",
      "            'target': {'fields': ['fld4_i', 'fld5_i', 'fld5_i'],\n",
      "                       'grid': {'name': 'grid_i',\n",
      "                                'overlap': 0,\n",
      "                                'type': 'icegrid'}},\n",
      "            'transformations': [{'name': 'GAUSWGT',\n",
      "                                 'opts': ['gausswgt opt 1',\n",
      "                                          'gausswgt opt 2']}]}],\n",
      " 'nlogprt': '1 -2',\n",
      " 'runtime': 2000}\n"
     ]
    }
   ],
   "source": [
    "with open('namcouple-example.yaml') as f:\n",
    "    ncdict = yaml.load(f, Loader=yaml.FullLoader)\n",
    "    \n",
    "pprint(ncdict)"
   ]
  },
  {
   "cell_type": "code",
   "execution_count": 3,
   "id": "5a86b150",
   "metadata": {},
   "outputs": [
    {
     "name": "stdout",
     "output_type": "stream",
     "text": [
      "# A YAML Namcouple example\n",
      "#\n",
      "$NFIELDS\n",
      "    3\n",
      "\n",
      "$RUNTIME\n",
      "    2000\n",
      "\n",
      "$NLOGPRT\n",
      "    1 -2\n",
      "\n",
      "$NNOREST\n",
      "    False\n",
      "\n",
      "$STRINGS\n",
      "\n",
      "# Fields sent atm --> oce\n",
      " fld1_a:fld2_a fld1_o:fld2_o 1 1200 2 none EXPORTED\n",
      " grid_a grid_o\n",
      " atmgrid 1 ocegrid 0\n",
      " GAUSWGT CONSERV\n",
      "  gausswgt opt 1\n",
      "  gausswgt opt 2\n",
      "  gausswgt opt 3\n",
      "  GLBPOS\n",
      "\n",
      "# More fields sent atm --> oce\n",
      " fld3_a fld3_o 1 1200 1 none EXPORTED\n",
      " grid_a grid_o\n",
      " atmgrid 1 ocegrid 0\n",
      " GAUSWGT\n",
      "  gausswgt opt 1\n",
      "  gausswgt opt 2\n",
      "  gausswgt opt 3\n",
      "\n",
      "# Fields sent atm --> ice\n",
      " fld4_a:fld5_a:fld6_a fld4_i:fld5_i:fld5_i 1 3600 1 none EXPORTED\n",
      " grid_a grid_i\n",
      " atmgrid 1 icegrid 0\n",
      " GAUSWGT\n",
      "  gausswgt opt 1\n",
      "  gausswgt opt 2\n",
      "\n"
     ]
    }
   ],
   "source": [
    "nc = from_dict(ncdict)\n",
    "print(nc.out)"
   ]
  },
  {
   "cell_type": "code",
   "execution_count": 4,
   "id": "2190d8eb",
   "metadata": {},
   "outputs": [
    {
     "name": "stdout",
     "output_type": "stream",
     "text": [
      "# Reduced version of 'A YAML Namcouple example'\n",
      "#\n",
      "$NFIELDS\n",
      "    3\n",
      "\n",
      "$RUNTIME\n",
      "    1\n",
      "\n",
      "$NLOGPRT\n",
      "    1 0\n",
      "\n",
      "$NNOREST\n",
      "    False\n",
      "\n",
      "$STRINGS\n",
      "\n",
      " VAR_00_S VAR_00_T 1 1 2 none EXPORTED\n",
      " grid_a grid_o\n",
      " atmgrid 1 ocegrid 0\n",
      " GAUSWGT CONSERV\n",
      "  gausswgt opt 1\n",
      "  gausswgt opt 2\n",
      "  gausswgt opt 3\n",
      "  GLBPOS\n",
      "\n",
      " VAR_01_S VAR_01_T 1 1 1 none EXPORTED\n",
      " grid_a grid_o\n",
      " atmgrid 1 ocegrid 0\n",
      " GAUSWGT\n",
      "  gausswgt opt 1\n",
      "  gausswgt opt 2\n",
      "  gausswgt opt 3\n",
      "\n",
      " VAR_02_S VAR_02_T 1 1 1 none EXPORTED\n",
      " grid_a grid_i\n",
      " atmgrid 1 icegrid 0\n",
      " GAUSWGT\n",
      "  gausswgt opt 1\n",
      "  gausswgt opt 2\n",
      "\n"
     ]
    }
   ],
   "source": [
    "print(reduce(nc).out)"
   ]
  },
  {
   "cell_type": "code",
   "execution_count": null,
   "id": "4905cfe4",
   "metadata": {},
   "outputs": [],
   "source": []
  }
 ],
 "metadata": {
  "kernelspec": {
   "display_name": "Python 3",
   "language": "python",
   "name": "python3"
  },
  "language_info": {
   "codemirror_mode": {
    "name": "ipython",
    "version": 3
   },
   "file_extension": ".py",
   "mimetype": "text/x-python",
   "name": "python",
   "nbconvert_exporter": "python",
   "pygments_lexer": "ipython3",
   "version": "3.6.8"
  }
 },
 "nbformat": 4,
 "nbformat_minor": 5
}
