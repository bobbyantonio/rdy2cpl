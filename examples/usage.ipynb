{
 "cells": [
  {
   "cell_type": "code",
   "execution_count": 1,
   "id": "1653f509",
   "metadata": {},
   "outputs": [],
   "source": [
    "from namcouple import Namcouple, Link, LinkEndPoint, Grid, Transformation, reduce"
   ]
  },
  {
   "cell_type": "code",
   "execution_count": 2,
   "id": "a3d1aad3",
   "metadata": {},
   "outputs": [
    {
     "name": "stdout",
     "output_type": "stream",
     "text": [
      "# Test OASIS namcouple file\n",
      "\n",
      "$NFIELDS\n",
      "    2\n",
      "\n",
      "$RUNTIME\n",
      "    1000\n",
      "\n",
      "$NLOGPRT\n",
      "    1 0\n",
      "\n",
      "$NNOREST\n",
      "    False\n",
      "\n",
      "$STRINGS\n",
      "\n",
      "# Example exchange\n",
      " f1_a:f2_a f1_o:f2_o 1 1200 3 none EXPORTED\n",
      " grd_a grd_o\n",
      " grdtp 0 grdtp 0\n",
      " t1 t2 t3\n",
      "  opt_11\n",
      "  opt_12\n",
      "  opt_31\n",
      "\n",
      "# Second exchange\n",
      " f3_a:f4_a f3_o:f4_o 1 3600 2 none EXPORTED\n",
      " grd_a grd_o\n",
      " grdtp 0 grdtp 0\n",
      " t1 t3\n",
      "  opt_11\n",
      "  opt_12\n",
      "  opt_31\n",
      "\n"
     ]
    }
   ],
   "source": [
    "nc = Namcouple(\n",
    "    description=\"Test OASIS namcouple file\",\n",
    "    runtime=1000,\n",
    "    links=[\n",
    "        Link(\n",
    "            description='Example exchange',\n",
    "            dt=1200,\n",
    "            source=LinkEndPoint(fields=['f1_a', 'f2_a'], grid=Grid(name='grd_a', type='grdtp', overlap=0)),\n",
    "            target=LinkEndPoint(fields=['f1_o', 'f2_o'], grid=Grid(name='grd_o', type='grdtp', overlap=0)),\n",
    "            transformations=[\n",
    "                Transformation(name='t1', opts=['opt_11', 'opt_12']),\n",
    "                Transformation(name='t2', opts=[]),\n",
    "                Transformation(name='t3', opts=['opt_31']),\n",
    "            ],\n",
    "        ),\n",
    "        Link(\n",
    "            description='Second exchange',\n",
    "            dt=3600,\n",
    "            source=LinkEndPoint(fields=['f3_a', 'f4_a'], grid=Grid(name='grd_a', type='grdtp', overlap=0)),\n",
    "            target=LinkEndPoint(fields=['f3_o', 'f4_o'], grid=Grid(name='grd_o', type='grdtp', overlap=0)),\n",
    "            transformations=[\n",
    "                Transformation(name='t1', opts=['opt_11', 'opt_12']),\n",
    "                Transformation(name='t3', opts=['opt_31']),\n",
    "            ],\n",
    "        ),\n",
    "    ]\n",
    ")\n",
    "\n",
    "print(nc.out)"
   ]
  },
  {
   "cell_type": "code",
   "execution_count": 3,
   "id": "9bd561f9",
   "metadata": {},
   "outputs": [
    {
     "name": "stdout",
     "output_type": "stream",
     "text": [
      "# Reduced version of 'Test OASIS namcouple file'\n",
      "\n",
      "$NFIELDS\n",
      "    2\n",
      "\n",
      "$RUNTIME\n",
      "    1\n",
      "\n",
      "$NLOGPRT\n",
      "    1 0\n",
      "\n",
      "$NNOREST\n",
      "    False\n",
      "\n",
      "$STRINGS\n",
      "\n",
      " VAR_00_S VAR_00_T 1 1 3 none EXPORTED\n",
      " grd_a grd_o\n",
      " grdtp 0 grdtp 0\n",
      " t1 t2 t3\n",
      "  opt_11\n",
      "  opt_12\n",
      "  opt_31\n",
      "\n",
      " VAR_01_S VAR_01_T 1 1 2 none EXPORTED\n",
      " grd_a grd_o\n",
      " grdtp 0 grdtp 0\n",
      " t1 t3\n",
      "  opt_11\n",
      "  opt_12\n",
      "  opt_31\n",
      "\n"
     ]
    }
   ],
   "source": [
    "print(reduce(nc).out)"
   ]
  },
  {
   "cell_type": "code",
   "execution_count": null,
   "id": "5fc13a60",
   "metadata": {},
   "outputs": [],
   "source": []
  }
 ],
 "metadata": {
  "kernelspec": {
   "display_name": "Python 3",
   "language": "python",
   "name": "python3"
  },
  "language_info": {
   "codemirror_mode": {
    "name": "ipython",
    "version": 3
   },
   "file_extension": ".py",
   "mimetype": "text/x-python",
   "name": "python",
   "nbconvert_exporter": "python",
   "pygments_lexer": "ipython3",
   "version": "3.6.8"
  }
 },
 "nbformat": 4,
 "nbformat_minor": 5
}
